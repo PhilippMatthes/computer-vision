{
 "cells": [
  {
   "cell_type": "markdown",
   "metadata": {
    "collapsed": true
   },
   "source": [
    "Which of the following filters are seperable?"
   ]
  },
  {
   "cell_type": "code",
   "execution_count": 1,
   "metadata": {},
   "outputs": [],
   "source": [
    "A = [[3, 2, 4], \n",
    "     [2, 1, 3], \n",
    "     [6, 4, 8]]\n",
    "B = [[4, 2, 8], \n",
    "     [2, 1, 4], \n",
    "     [6, 3, 12]]\n",
    "C = [[4, 2, 8],\n",
    "     [-2, -1, -4], \n",
    "     [6, 3, 12]]"
   ]
  },
  {
   "cell_type": "markdown",
   "metadata": {},
   "source": [
    "Seperability of a $nxn$ filter means, that it can be separated into two partial filters."
   ]
  },
  {
   "cell_type": "markdown",
   "metadata": {},
   "source": [
    "Of the matrices, A cannot be separated. B and C can be separated."
   ]
  },
  {
   "cell_type": "code",
   "execution_count": 19,
   "metadata": {},
   "outputs": [
    {
     "name": "stdout",
     "output_type": "stream",
     "text": [
      "[[ 4  2  8]\n [ 2  1  4]\n [ 6  3 12]]\n"
     ]
    }
   ],
   "source": [
    "import numpy as np\n",
    "\n",
    "B1 = np.array([[2],\n",
    "               [1],\n",
    "               [3]])\n",
    "B2 = np.array([2, 1, 4])\n",
    "print(B1 * B2)"
   ]
  },
  {
   "cell_type": "code",
   "execution_count": 20,
   "metadata": {},
   "outputs": [
    {
     "name": "stdout",
     "output_type": "stream",
     "text": [
      "[[ 4  2  8]\n [-2 -1 -4]\n [ 6  3 12]]\n"
     ]
    }
   ],
   "source": [
    "C1 = np.array([[2],\n",
    "               [-1],\n",
    "               [3]])\n",
    "C2 = np.array([2, 1, 4])\n",
    "print(C1 * C2)"
   ]
  },
  {
   "cell_type": "markdown",
   "metadata": {},
   "source": [
    "3 Sampling\n",
    "\n",
    "If we take a photo or artificially produce an image the continuous\n",
    "distribution of light is sampled by the image grid.\n",
    "What does the sampling theorem (Chapter 2, p. 15) tell us?\n",
    "We can consider the signal to be composed of sine waves.\n",
    "In case of images it means that every image can be represented as a\n",
    "weighted sum of images like this:\n",
    "(Image of diagonally aligned sine waves)\n",
    "and that we have to place at least two sampling points per period\n",
    "(Chapter 2, p. 14).\n",
    "Therefore the higher frequencies our image contains the denser the image\n",
    "grid has to be.\n",
    "In any given grid the wavelength of the representable wave with maximum\n",
    "frequency is 2 grid spacings B: f=1/2B.\n",
    "Assume you image a point. After removing all frequencies higher than 1/2\n",
    "this point is represented by the function\n",
    "(Function)"
   ]
  },
  {
   "cell_type": "code",
   "execution_count": null,
   "metadata": {},
   "outputs": [],
   "source": []
  }
 ],
 "metadata": {
  "kernelspec": {
   "display_name": "Python 2",
   "language": "python",
   "name": "python2"
  },
  "language_info": {
   "codemirror_mode": {
    "name": "ipython",
    "version": 2
   },
   "file_extension": ".py",
   "mimetype": "text/x-python",
   "name": "python",
   "nbconvert_exporter": "python",
   "pygments_lexer": "ipython2",
   "version": "2.7.6"
  }
 },
 "nbformat": 4,
 "nbformat_minor": 0
}
